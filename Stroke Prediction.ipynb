{
 "cells": [
  {
   "cell_type": "code",
   "execution_count": 59,
   "id": "7d5c06c3",
   "metadata": {},
   "outputs": [
    {
     "name": "stdout",
     "output_type": "stream",
     "text": [
      "[0 0 0 ... 0 0 0]\n"
     ]
    }
   ],
   "source": [
    "import pandas as pd\n",
    "from sklearn.ensemble import RandomForestClassifier\n",
    "from sklearn.preprocessing import StandardScaler\n",
    "from sklearn.model_selection import train_test_split\n",
    "from sklearn.metrics import accuracy_score\n",
    "import warnings\n",
    "import pickle\n",
    "warnings.filterwarnings(\"ignore\")\n",
    "# Reading csv file\n",
    "df=pd.read_csv(\"C:\\\\Users\\\\ankit\\\\Documents\\\\Project Files\\\\Stroke preduction.csv\")\n",
    "# Dropping id column\n",
    "df.drop(columns=[\"id\"],inplace=True)\n",
    "# Label Encoding\n",
    "list=[\"gender\",\"ever_married\",\"work_type\",\"Residence_type\",\"smoking_status\"]\n",
    "label=LabelEncoder()\n",
    "list1=[]\n",
    "for i in list:\n",
    "    list1.append(label.fit_transform(df[i]))\n",
    "    \n",
    "new_list=[\"gender\",\"ever_married\",\"work_type\",\"Residence_type\",\"smoking_status\"]\n",
    "for i in range(len(list)):\n",
    "    df[new_list[i]]=list1[i]    \n",
    "# deploying model   \n",
    "X=df[[\"gender\",\"age\",\"hypertension\",\"heart_disease\",\"avg_glucose_level\",\"smoking_status\"]]\n",
    "y=df[\"stroke\"]\n",
    "X=X.astype(\"int\")\n",
    "y=y.astype(\"int\")\n",
    "X_train,X_test,y_train,y_test=train_test_split(X,y,test_size=0.25,random_state=40)\n",
    "sc=StandardScaler()\n",
    "X_train=sc.fit_transform(X_train)\n",
    "rf=RandomForestClassifier()\n",
    "rf.fit(X_train,y_train)\n",
    "predict_rf=rf.predict(X_test)\n",
    "print(predict_rf)    \n",
    "# Save model\n",
    "pickle_out= open(\"Stroke_model.pkl\", \"wb\")\n",
    "pickle.dump(rf,pickle_out )\n",
    "pickle_out.close()"
   ]
  }
 ],
 "metadata": {
  "kernelspec": {
   "display_name": "Python 3",
   "language": "python",
   "name": "python3"
  },
  "language_info": {
   "codemirror_mode": {
    "name": "ipython",
    "version": 3
   },
   "file_extension": ".py",
   "mimetype": "text/x-python",
   "name": "python",
   "nbconvert_exporter": "python",
   "pygments_lexer": "ipython3",
   "version": "3.8.8"
  }
 },
 "nbformat": 4,
 "nbformat_minor": 5
}
